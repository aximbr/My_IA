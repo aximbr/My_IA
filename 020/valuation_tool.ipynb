{
 "cells": [
  {
   "cell_type": "markdown",
   "metadata": {},
   "source": [
    "# Lesson 83 and 84"
   ]
  },
  {
   "cell_type": "code",
   "execution_count": 3,
   "metadata": {},
   "outputs": [],
   "source": [
    "#from sklearn.datasets import load_boston\n",
    "from sklearn.datasets import fetch_openml\n",
    "from sklearn.linear_model import LinearRegression\n",
    "from sklearn.metrics import mean_squared_error\n",
    "\n",
    "import pandas as pd\n",
    "import numpy as np\n"
   ]
  },
  {
   "cell_type": "code",
   "execution_count": 4,
   "metadata": {},
   "outputs": [],
   "source": [
    "# Gather Data\n",
    "#boston_dataset = load_boston()\n",
    "boston_dataset = fetch_openml(name='boston', version=1)\n",
    "data = pd.DataFrame(data=boston_dataset.data, columns=boston_dataset.feature_names)\n",
    "features = data.drop(['INDUS', 'AGE'], axis=1)\n",
    "#features.dtypes\n",
    "features['CHAS'] = features['CHAS'].astype('float64')\n",
    "features['RAD'] = features['RAD'].astype('float64')\n",
    "#features.dtypes"
   ]
  },
  {
   "cell_type": "code",
   "execution_count": 5,
   "metadata": {},
   "outputs": [],
   "source": [
    "log_prices = np.log(boston_dataset.target).to_numpy()\n",
    "# add to_numpy() method to force return a Array otherwise returns a serie\n",
    "#print(type(log_prices))\n",
    "target = pd.DataFrame(log_prices, columns=['PRICE'])\n",
    "#print(target)"
   ]
  },
  {
   "cell_type": "code",
   "execution_count": 43,
   "metadata": {},
   "outputs": [],
   "source": [
    "CRIME_IDX = 0\n",
    "ZN_IDX = 1\n",
    "CHAS_IDX = 2\n",
    "RM_IDX = 4\n",
    "PTRATIO_IDX = 8\n",
    "\n",
    "#property_stats = features.mean().to_numpy().reshape(1,11)\n",
    "#property_stats = features.mean().values.reshape(1, 11)\n",
    "#property_stats\n",
    "property_stats = features.mean().to_frame().transpose()\n"
   ]
  },
  {
   "cell_type": "code",
   "execution_count": 44,
   "metadata": {},
   "outputs": [
    {
     "data": {
      "text/plain": [
       "np.float64(0.18751213519713034)"
      ]
     },
     "execution_count": 44,
     "metadata": {},
     "output_type": "execute_result"
    }
   ],
   "source": [
    "regr = LinearRegression().fit(features, target)\n",
    "fitted_vals = regr.predict(features)\n",
    "\n",
    "# Chalenge: calculate MSE and RMSE using scikit-learn\n",
    "MSE = mean_squared_error(target, fitted_vals )\n",
    "RMSE = np.sqrt(MSE)\n",
    "RMSE"
   ]
  },
  {
   "cell_type": "code",
   "execution_count": 47,
   "metadata": {},
   "outputs": [],
   "source": [
    "def get_log_estimate(nr_rooms, students_per_classroom, \n",
    "                     next_to_river=False, \n",
    "                     high_confidence=False):\n",
    "    # Configure Property\n",
    "    #property_stats[0][RM_IDX] = nr_rooms\n",
    "    property_stats['RM'] = nr_rooms\n",
    "    #property_stats[0][PTRATIO_IDX] = students_per_classroom\n",
    "    property_stats['PTRATIO'] = students_per_classroom\n",
    "    if next_to_river:\n",
    "        #property_stats[0][CHAS_IDX] = 1\n",
    "        property_stats['CHAS'] = 1\n",
    "    else:\n",
    "        #property_stats[0][CHAS_IDX] = 0\n",
    "        property_stats['CHAS'] = 0\n",
    "\n",
    "    # Make prediction\n",
    "    #log_estimate = regr.predict(property_stats)[0][0]\n",
    "    log_estimate = regr.predict(property_stats)\n",
    "\n",
    "    # Calc range\n",
    "    if high_confidence:\n",
    "        # calc 2 ST. D\n",
    "        upper_bound = log_estimate + 2* RMSE\n",
    "        lower_bound = log_estimate - 2* RMSE\n",
    "        interval = 95\n",
    "    else:\n",
    "        # calc 1 ST. D.\n",
    "        # calc 2 ST. D\n",
    "        upper_bound = log_estimate + RMSE\n",
    "        lower_bound = log_estimate - RMSE\n",
    "        interval = 68\n",
    "    \n",
    "    return log_estimate, upper_bound, lower_bound, interval\n"
   ]
  },
  {
   "cell_type": "code",
   "execution_count": 48,
   "metadata": {},
   "outputs": [
    {
     "data": {
      "text/plain": [
       "(array([[3.04586876]]), array([[3.42089303]]), array([[2.67084449]]), 95)"
      ]
     },
     "execution_count": 48,
     "metadata": {},
     "output_type": "execute_result"
    }
   ],
   "source": [
    "get_log_estimate(3,10, next_to_river=False, high_confidence=True)"
   ]
  },
  {
   "cell_type": "code",
   "execution_count": 49,
   "metadata": {},
   "outputs": [
    {
     "data": {
      "text/plain": [
       "np.float64(21.2)"
      ]
     },
     "execution_count": 49,
     "metadata": {},
     "output_type": "execute_result"
    }
   ],
   "source": [
    "np.median(boston_dataset.target)"
   ]
  },
  {
   "cell_type": "code",
   "execution_count": 50,
   "metadata": {},
   "outputs": [
    {
     "name": "stdout",
     "output_type": "stream",
     "text": [
      "The estimate property value is USD [[827000.]]\n",
      "At 68% confidence of valuation range is\n",
      "USD [[685000.]] at the lower end to USD [[997000.]] at higher end\n"
     ]
    }
   ],
   "source": [
    "#Chalenge: write teh python code that converts the log price estimate using 1970s prices\n",
    "#as well as the uppeer and the lowe bounds to today's prices. Roud the value to  the\n",
    "#nearest 1000 dollars\n",
    "ZILLOW_MEDIAN_PRICE = 583.3\n",
    "SCALE_FACTOR = ZILLOW_MEDIAN_PRICE /np.median(boston_dataset.target)\n",
    "\n",
    "log_est, upper, lower, conf = get_log_estimate(9, students_per_classroom= 15,\n",
    "                                                   next_to_river=False,\n",
    "                                                    high_confidence=False )\n",
    "\n",
    "# convert to today's dollar\n",
    "dollar_est = np.e**(log_est) * 1000 * SCALE_FACTOR\n",
    "dollar_up = np.e**(upper) * 1000 * SCALE_FACTOR\n",
    "dollar_low = np.e**(lower) * 1000 * SCALE_FACTOR\n",
    "\n",
    "rounded_est = np.around(dollar_est,-3)\n",
    "rounded_up = np.around(dollar_up,-3)\n",
    "rounded_low = np.around(dollar_low,-3)\n",
    "\n",
    "print(f'The estimate property value is USD {rounded_est}')\n",
    "print(f'At {conf}% confidence of valuation range is')\n",
    "print(f'USD {rounded_low} at the lower end to USD {rounded_up} at higher end')"
   ]
  },
  {
   "cell_type": "code",
   "execution_count": 55,
   "metadata": {},
   "outputs": [],
   "source": [
    "def get_dollar_estimate(rm, ptratio, chas=False, range=True):\n",
    "    \"\"\"Estimate the price of a property in Boston.\n",
    "\n",
    "    Keyword arguments:\n",
    "    rm -- number of rooms int the property.\n",
    "    ptratio -- number of students per teacher in the classroom for the school in the area.\n",
    "    chas -- True if the property is next to the river, False otherwise.\n",
    "    large_range -- True for a 95% prediction interval, False for a 68% interval.\n",
    "\n",
    "    \"\"\"\n",
    "\n",
    "    if rm < 1 or ptratio < 1 :\n",
    "        print('That is unrealistic! Try again.')\n",
    "        return\n",
    "    \n",
    "\n",
    "    log_est, upper, lower, conf = get_log_estimate(rm, ptratio,\n",
    "                                                   next_to_river=chas,\n",
    "                                                    high_confidence=range )\n",
    "\n",
    "    # convert to today's dollar\n",
    "    dollar_est = np.e**(log_est) * 1000 * SCALE_FACTOR\n",
    "    dollar_up = np.e**(upper) * 1000 * SCALE_FACTOR\n",
    "    dollar_low = np.e**(lower) * 1000 * SCALE_FACTOR\n",
    "\n",
    "    rounded_est = np.around(dollar_est,-3)\n",
    "    rounded_up = np.around(dollar_up,-3)\n",
    "    rounded_low = np.around(dollar_low,-3)\n",
    "\n",
    "    print(f'The estimate property value is USD {rounded_est}')\n",
    "    print(f'At {conf}% confidence of valuation range is')\n",
    "    print(f'USD {rounded_low} at the lower end to USD {rounded_up} at higher end')"
   ]
  },
  {
   "cell_type": "code",
   "execution_count": 54,
   "metadata": {},
   "outputs": [
    {
     "name": "stdout",
     "output_type": "stream",
     "text": [
      "That is unrealistic! Try again\n"
     ]
    }
   ],
   "source": [
    "get_dollar_estimate(rm=0, ptratio=200, chas=True)"
   ]
  },
  {
   "cell_type": "code",
   "execution_count": null,
   "metadata": {},
   "outputs": [],
   "source": []
  }
 ],
 "metadata": {
  "kernelspec": {
   "display_name": ".venv",
   "language": "python",
   "name": "python3"
  },
  "language_info": {
   "codemirror_mode": {
    "name": "ipython",
    "version": 3
   },
   "file_extension": ".py",
   "mimetype": "text/x-python",
   "name": "python",
   "nbconvert_exporter": "python",
   "pygments_lexer": "ipython3",
   "version": "3.12.3"
  }
 },
 "nbformat": 4,
 "nbformat_minor": 2
}
